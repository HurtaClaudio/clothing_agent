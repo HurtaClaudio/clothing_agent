{
 "cells": [
  {
   "cell_type": "code",
   "execution_count": 4,
   "metadata": {},
   "outputs": [],
   "source": [
    "import os, getpass\n",
    "\n",
    "def _set_env(var: str):\n",
    "    if not os.environ.get(var):\n",
    "        os.environ[var] = getpass.getpass(f\"{var}: \")\n",
    "\n",
    "_set_env(\"OPENAI_API_KEY\")"
   ]
  },
  {
   "cell_type": "code",
   "execution_count": 5,
   "metadata": {},
   "outputs": [],
   "source": [
    "from langchain_openai import ChatOpenAI\n",
    "gpt4o_chat = ChatOpenAI(model=\"gpt-4o\", temperature=0)\n",
    "gpt35_chat = ChatOpenAI(model=\"gpt-3.5-turbo-0125\", temperature=0)"
   ]
  },
  {
   "cell_type": "code",
   "execution_count": 6,
   "metadata": {},
   "outputs": [
    {
     "data": {
      "text/plain": [
       "AIMessage(content='Hello! How can I assist you today?', additional_kwargs={'refusal': None}, response_metadata={'token_usage': {'completion_tokens': 9, 'prompt_tokens': 9, 'total_tokens': 18, 'completion_tokens_details': {'accepted_prediction_tokens': 0, 'audio_tokens': 0, 'reasoning_tokens': 0, 'rejected_prediction_tokens': 0}, 'prompt_tokens_details': {'audio_tokens': 0, 'cached_tokens': 0}}, 'model_name': 'gpt-4o-2024-08-06', 'system_fingerprint': 'fp_07871e2ad8', 'finish_reason': 'stop', 'logprobs': None}, id='run--c9a775c5-3477-4967-b81f-a9e81b74f9bf-0', usage_metadata={'input_tokens': 9, 'output_tokens': 9, 'total_tokens': 18, 'input_token_details': {'audio': 0, 'cache_read': 0}, 'output_token_details': {'audio': 0, 'reasoning': 0}})"
      ]
     },
     "execution_count": 6,
     "metadata": {},
     "output_type": "execute_result"
    }
   ],
   "source": [
    "gpt4o_chat.invoke(\"hello world\")"
   ]
  },
  {
   "cell_type": "code",
   "execution_count": 9,
   "metadata": {},
   "outputs": [
    {
     "name": "stderr",
     "output_type": "stream",
     "text": [
      "/Users/claudio_hurtado/Code/clothing_agent/.venv/lib/python3.12/site-packages/numpy/linalg/_linalg.py:2791: RuntimeWarning: divide by zero encountered in dot\n",
      "  sqnorm = x.dot(x)\n",
      "/Users/claudio_hurtado/Code/clothing_agent/.venv/lib/python3.12/site-packages/numpy/linalg/_linalg.py:2791: RuntimeWarning: overflow encountered in dot\n",
      "  sqnorm = x.dot(x)\n",
      "/Users/claudio_hurtado/Code/clothing_agent/.venv/lib/python3.12/site-packages/numpy/linalg/_linalg.py:2791: RuntimeWarning: invalid value encountered in dot\n",
      "  sqnorm = x.dot(x)\n",
      "/var/folders/6m/qhplqbks3tn6vw3y5fxxxnr80000gn/T/ipykernel_7093/3305778719.py:16: LangChainDeprecationWarning: Since Chroma 0.4.x the manual persistence method is no longer supported as docs are automatically persisted.\n",
      "  vectorstore.persist()\n"
     ]
    }
   ],
   "source": [
    "from langchain_community.document_loaders import PyPDFLoader\n",
    "from langchain.text_splitter import RecursiveCharacterTextSplitter\n",
    "from langchain.embeddings import OpenAIEmbeddings\n",
    "from langchain.vectorstores import Chroma\n",
    "\n",
    "# Load PDF\n",
    "loader = PyPDFLoader(\"pdfs/bible.pdf\")\n",
    "docs = loader.load()\n",
    "\n",
    "# Split text\n",
    "text_splitter = RecursiveCharacterTextSplitter(chunk_size=500, chunk_overlap=50)\n",
    "split_docs = text_splitter.split_documents(docs)\n",
    "\n",
    "# Create vector store\n",
    "vectorstore = Chroma.from_documents(split_docs, embedding=OpenAIEmbeddings(), persist_directory=\"./chroma_db\")\n",
    "vectorstore.persist()\n",
    "\n"
   ]
  },
  {
   "cell_type": "code",
   "execution_count": 2,
   "metadata": {},
   "outputs": [],
   "source": [
    "from langchain.embeddings import OpenAIEmbeddings\n",
    "from langchain.vectorstores import Chroma\n",
    "\n",
    "vectorstore = Chroma(persist_directory=\"./chroma_db\", embedding_function=OpenAIEmbeddings())\n",
    "retriever = vectorstore.as_retriever()"
   ]
  },
  {
   "cell_type": "code",
   "execution_count": 7,
   "metadata": {},
   "outputs": [],
   "source": [
    "from langchain.chains import RetrievalQA\n",
    "\n",
    "qa_chain = RetrievalQA.from_chain_type(\n",
    "    llm=gpt4o_chat,\n",
    "    chain_type=\"stuff\",  # or \"map_reduce\", \"refine\" depending on use case\n",
    "    retriever=retriever,\n",
    "    return_source_documents=True\n",
    ")"
   ]
  },
  {
   "cell_type": "code",
   "execution_count": 12,
   "metadata": {},
   "outputs": [
    {
     "name": "stderr",
     "output_type": "stream",
     "text": [
      "/Users/claudio_hurtado/Code/clothing_agent/.venv/lib/python3.12/site-packages/numpy/linalg/_linalg.py:2791: RuntimeWarning: divide by zero encountered in dot\n",
      "  sqnorm = x.dot(x)\n",
      "/Users/claudio_hurtado/Code/clothing_agent/.venv/lib/python3.12/site-packages/numpy/linalg/_linalg.py:2791: RuntimeWarning: overflow encountered in dot\n",
      "  sqnorm = x.dot(x)\n",
      "/Users/claudio_hurtado/Code/clothing_agent/.venv/lib/python3.12/site-packages/numpy/linalg/_linalg.py:2791: RuntimeWarning: invalid value encountered in dot\n",
      "  sqnorm = x.dot(x)\n"
     ]
    },
    {
     "name": "stdout",
     "output_type": "stream",
     "text": [
      "Answer: The most important teaching highlighted in the provided context is to \"Love the Lord your God with all your heart, with all your soul, with all your mind, and with all your strength\" and to \"Love your neighbor as yourself.\" These are described as the greatest and most important commands.\n",
      "\n",
      "Sources:\n",
      "{'trapped': '/False', 'page': 909, 'page_label': '900', 'source': 'pdfs/bible.pdf', 'total_pages': 1120, 'creationdate': '2017-10-26T20:59:36-05:00', 'moddate': '2017-11-07T16:41:59-06:00', 'producer': 'Adobe PDF Library 15.0', 'creator': 'Adobe InDesign CC 2017 (Macintosh)'}\n",
      "{'page': 1061, 'total_pages': 1120, 'producer': 'Adobe PDF Library 15.0', 'source': 'pdfs/bible.pdf', 'creationdate': '2017-10-26T20:59:36-05:00', 'trapped': '/False', 'creator': 'Adobe InDesign CC 2017 (Macintosh)', 'page_label': '1052', 'moddate': '2017-11-07T16:41:59-06:00'}\n",
      "{'source': 'pdfs/bible.pdf', 'creationdate': '2017-10-26T20:59:36-05:00', 'trapped': '/False', 'creator': 'Adobe InDesign CC 2017 (Macintosh)', 'page_label': '593', 'page': 602, 'producer': 'Adobe PDF Library 15.0', 'total_pages': 1120, 'moddate': '2017-11-07T16:41:59-06:00'}\n",
      "{'total_pages': 1120, 'source': 'pdfs/bible.pdf', 'page_label': '878', 'creator': 'Adobe InDesign CC 2017 (Macintosh)', 'page': 887, 'moddate': '2017-11-07T16:41:59-06:00', 'trapped': '/False', 'creationdate': '2017-10-26T20:59:36-05:00', 'producer': 'Adobe PDF Library 15.0'}\n"
     ]
    }
   ],
   "source": [
    "query = \"What is the most important teaching of this book?\"\n",
    "result = qa_chain({\"query\": query})\n",
    "\n",
    "print(\"Answer:\", result[\"result\"])\n",
    "print(\"\\nSources:\")\n",
    "for doc in result[\"source_documents\"]:\n",
    "    print(doc.metadata)"
   ]
  },
  {
   "cell_type": "code",
   "execution_count": null,
   "metadata": {},
   "outputs": [],
   "source": []
  }
 ],
 "metadata": {
  "kernelspec": {
   "display_name": "clothing_agent",
   "language": "python",
   "name": "python3"
  },
  "language_info": {
   "codemirror_mode": {
    "name": "ipython",
    "version": 3
   },
   "file_extension": ".py",
   "mimetype": "text/x-python",
   "name": "python",
   "nbconvert_exporter": "python",
   "pygments_lexer": "ipython3",
   "version": "3.12.10"
  }
 },
 "nbformat": 4,
 "nbformat_minor": 2
}
